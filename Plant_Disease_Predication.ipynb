{
  "metadata": {
    "kernelspec": {
      "language": "python",
      "display_name": "Python 3",
      "name": "python3"
    },
    "language_info": {
      "name": "python",
      "version": "3.7.9",
      "mimetype": "text/x-python",
      "codemirror_mode": {
        "name": "ipython",
        "version": 3
      },
      "pygments_lexer": "ipython3",
      "nbconvert_exporter": "python",
      "file_extension": ".py"
    },
    "kaggle": {
      "accelerator": "gpu",
      "dataSources": [
        {
          "sourceId": 182633,
          "sourceType": "datasetVersion",
          "datasetId": 78313
        },
        {
          "sourceId": 8482074,
          "sourceType": "datasetVersion",
          "datasetId": 5054086
        }
      ],
      "dockerImageVersionId": 30086,
      "isInternetEnabled": true,
      "language": "python",
      "sourceType": "notebook",
      "isGpuEnabled": true
    },
    "colab": {
      "name": "Plant_Disease_Resnet50  ",
      "provenance": []
    }
  },
  "nbformat_minor": 0,
  "nbformat": 4,
  "cells": [
    {
      "source": [],
      "metadata": {
        "id": "bYsIQ2XE8IDr"
      },
      "cell_type": "code",
      "outputs": [],
      "execution_count": null
    },
    {
      "cell_type": "code",
      "source": [
        "#IMPORTING LIBRARIES\n",
        "import numpy as np\n",
        "import pandas as pd\n",
        "import os\n",
        "import matplotlib.pyplot as plt"
      ],
      "metadata": {
        "id": "_JzmfbhkxDeY",
        "execution": {
          "iopub.status.busy": "2024-05-27T14:14:02.791223Z",
          "iopub.execute_input": "2024-05-27T14:14:02.791605Z",
          "iopub.status.idle": "2024-05-27T14:14:02.796593Z",
          "shell.execute_reply.started": "2024-05-27T14:14:02.791512Z",
          "shell.execute_reply": "2024-05-27T14:14:02.795662Z"
        },
        "trusted": true
      },
      "execution_count": null,
      "outputs": []
    },
    {
      "cell_type": "markdown",
      "source": [
        "# DATASET"
      ],
      "metadata": {
        "id": "XynPc0bp8ID2"
      }
    },
    {
      "cell_type": "code",
      "source": [
        "path='/kaggle/input/lacaydata/train'\n",
        "plt.figure(figsize=(70,70))\n",
        "count=0\n",
        "plant_names=[]\n",
        "total_images=0\n",
        "for i in os.listdir(path):\n",
        "  count+=1\n",
        "  plant_names.append(i)\n",
        "  plt.subplot(7,7,count)\n",
        "\n",
        "  images_path=os.listdir(path+\"/\"+i)\n",
        "  print(\"Number of images of \"+i+\":\",len(images_path),\"||\",end=\" \")\n",
        "  total_images+=len(images_path)\n",
        "\n",
        "  image_show=plt.imread(path+\"/\"+i+\"/\"+images_path[0])\n",
        "\n",
        "  plt.imshow(image_show)\n",
        "  plt.xlabel(i)\n",
        "\n",
        "  plt.xticks([])\n",
        "  plt.yticks([])\n",
        "\n",
        "print(\"Total number of images we have\",total_images)"
      ],
      "metadata": {
        "id": "n4rPrWqYyDZT",
        "execution": {
          "iopub.status.busy": "2024-05-27T14:14:21.36696Z",
          "iopub.execute_input": "2024-05-27T14:14:21.367299Z",
          "iopub.status.idle": "2024-05-27T14:14:27.188244Z",
          "shell.execute_reply.started": "2024-05-27T14:14:21.367271Z",
          "shell.execute_reply": "2024-05-27T14:14:27.18663Z"
        },
        "trusted": true
      },
      "execution_count": null,
      "outputs": []
    },
    {
      "cell_type": "code",
      "source": [
        "print(plant_names)\n",
        "print(len(plant_names))\n",
        "num_classes = len(plant_names)"
      ],
      "metadata": {
        "id": "aQxJtLeu3k2u",
        "execution": {
          "iopub.status.busy": "2024-05-27T14:14:28.574327Z",
          "iopub.execute_input": "2024-05-27T14:14:28.574709Z",
          "iopub.status.idle": "2024-05-27T14:14:28.579756Z",
          "shell.execute_reply.started": "2024-05-27T14:14:28.574678Z",
          "shell.execute_reply": "2024-05-27T14:14:28.578643Z"
        },
        "trusted": true
      },
      "execution_count": null,
      "outputs": []
    },
    {
      "cell_type": "markdown",
      "source": [
        "**IMPORTING NECESSARY LIBRARIES FOR TRAINING OF MODEL**"
      ],
      "metadata": {
        "id": "Tm56pGq78ID6"
      }
    },
    {
      "cell_type": "code",
      "source": [
        "import tensorflow\n",
        "from tensorflow import keras\n",
        "from keras.models import Sequential,load_model,Model\n",
        "from keras.layers import Conv2D,MaxPool2D,AveragePooling2D,Dense,Flatten,ZeroPadding2D,BatchNormalization,Activation,Add,Input,Dropout,GlobalAveragePooling2D\n",
        "from keras.optimizers import SGD\n",
        "from keras.initializers import glorot_uniform\n",
        "from keras.preprocessing.image import ImageDataGenerator\n",
        "from keras.callbacks import ModelCheckpoint,EarlyStopping,ReduceLROnPlateau\n"
      ],
      "metadata": {
        "id": "hDtTy1dh6m-L",
        "execution": {
          "iopub.status.busy": "2024-05-27T14:14:37.125411Z",
          "iopub.execute_input": "2024-05-27T14:14:37.12585Z",
          "iopub.status.idle": "2024-05-27T14:14:42.236646Z",
          "shell.execute_reply.started": "2024-05-27T14:14:37.125796Z",
          "shell.execute_reply": "2024-05-27T14:14:42.235592Z"
        },
        "trusted": true
      },
      "execution_count": null,
      "outputs": []
    },
    {
      "cell_type": "markdown",
      "source": [
        "# RESNET50 IMPLEMENTATION USING KERAS API"
      ],
      "metadata": {
        "id": "D7GDfJ938ID7"
      }
    },
    {
      "cell_type": "code",
      "source": [
        "from tensorflow.keras.applications import DenseNet121\n",
        "from tensorflow.keras.applications.resnet50 import preprocess_input"
      ],
      "metadata": {
        "id": "yQ95FggZ37QX",
        "execution": {
          "iopub.status.busy": "2024-05-27T14:21:04.964536Z",
          "iopub.execute_input": "2024-05-27T14:21:04.964965Z",
          "iopub.status.idle": "2024-05-27T14:21:04.969497Z",
          "shell.execute_reply.started": "2024-05-27T14:21:04.964926Z",
          "shell.execute_reply": "2024-05-27T14:21:04.968458Z"
        },
        "trusted": true
      },
      "execution_count": null,
      "outputs": []
    },
    {
      "cell_type": "code",
      "source": [
        "base_model_tf=DenseNet121(include_top=False,weights='imagenet',input_shape=(224,224,3),classes=num_classes)"
      ],
      "metadata": {
        "id": "fROY9SFB4ORk",
        "execution": {
          "iopub.status.busy": "2024-05-27T14:21:19.378672Z",
          "iopub.execute_input": "2024-05-27T14:21:19.379039Z",
          "iopub.status.idle": "2024-05-27T14:21:22.302375Z",
          "shell.execute_reply.started": "2024-05-27T14:21:19.379008Z",
          "shell.execute_reply": "2024-05-27T14:21:22.301321Z"
        },
        "trusted": true
      },
      "execution_count": null,
      "outputs": []
    },
    {
      "cell_type": "code",
      "source": [
        "base_model_tf.trainable = False\n",
        "pt = Input(shape=(224, 224, 3))\n",
        "x = base_model_tf(pt, training=False)\n",
        "x = GlobalAveragePooling2D()(x)\n",
        "x = Dropout(0.5)(x)\n",
        "x = Dense(128, activation='relu')(x)\n",
        "x = Dropout(0.5)(x)\n",
        "x = Dense(64, activation='relu')(x)\n",
        "x = Dense(num_classes, activation='softmax')(x)\n",
        "\n",
        "\n",
        "model_main = Model(inputs=pt, outputs=x)\n",
        "model_main.summary()"
      ],
      "metadata": {
        "id": "jTEc9IGj5WqQ",
        "execution": {
          "iopub.status.busy": "2024-05-27T15:20:22.842255Z",
          "iopub.execute_input": "2024-05-27T15:20:22.842605Z",
          "iopub.status.idle": "2024-05-27T15:20:23.711909Z",
          "shell.execute_reply.started": "2024-05-27T15:20:22.842563Z",
          "shell.execute_reply": "2024-05-27T15:20:23.711045Z"
        },
        "trusted": true
      },
      "execution_count": null,
      "outputs": []
    },
    {
      "cell_type": "code",
      "source": [
        "#Image augmentation\n",
        "train_datagen= ImageDataGenerator(zoom_range=0.2,width_shift_range=0.2,height_shift_range=0.2,\n",
        "                                                                    shear_range=0.2, horizontal_flip=True,fill_mode='nearest', validation_split=0.2)\n",
        "\n",
        "val_datagen=ImageDataGenerator()\n",
        "\n",
        "path_train='/kaggle/input/lacaydata/train'\n",
        "\n",
        "path_valid='/kaggle/input/lacaydata/valid'\n",
        "\n",
        "train= train_datagen.flow_from_directory(directory=path_train,batch_size=32,target_size=(224,224),\n",
        "                                         color_mode='rgb',class_mode='categorical',seed=42,subset=\"training\", shuffle = True)\n",
        "\n",
        "valid=train_datagen.flow_from_directory(directory=path_train,batch_size=32,target_size=(224,224),\n",
        "                                      color_mode='rgb',class_mode='categorical',subset=\"validation\", shuffle = True)\n",
        "\n",
        "test= val_datagen.flow_from_directory(directory=path_valid,batch_size=32,target_size=(224,224),\n",
        "                                      color_mode='rgb',class_mode='categorical', shuffle = False)"
      ],
      "metadata": {
        "id": "0K2moxA6Vzkb",
        "execution": {
          "iopub.status.busy": "2024-05-27T14:23:18.31678Z",
          "iopub.execute_input": "2024-05-27T14:23:18.317152Z",
          "iopub.status.idle": "2024-05-27T14:23:53.094658Z",
          "shell.execute_reply.started": "2024-05-27T14:23:18.317118Z",
          "shell.execute_reply": "2024-05-27T14:23:53.093399Z"
        },
        "trusted": true
      },
      "execution_count": null,
      "outputs": []
    },
    {
      "cell_type": "code",
      "source": [
        "#CallBacks\n",
        "es=EarlyStopping(monitor='val_loss',verbose=1,patience=7,mode='auto')"
      ],
      "metadata": {
        "id": "2xbh-kz4lU-e",
        "execution": {
          "iopub.status.busy": "2024-05-27T15:20:31.417297Z",
          "iopub.execute_input": "2024-05-27T15:20:31.417655Z",
          "iopub.status.idle": "2024-05-27T15:20:31.423599Z",
          "shell.execute_reply.started": "2024-05-27T15:20:31.417621Z",
          "shell.execute_reply": "2024-05-27T15:20:31.422701Z"
        },
        "trusted": true
      },
      "execution_count": null,
      "outputs": []
    },
    {
      "cell_type": "code",
      "source": [],
      "metadata": {
        "execution": {
          "iopub.status.busy": "2024-05-27T15:20:34.459889Z",
          "iopub.execute_input": "2024-05-27T15:20:34.460224Z",
          "iopub.status.idle": "2024-05-27T15:20:34.468989Z",
          "shell.execute_reply.started": "2024-05-27T15:20:34.460195Z",
          "shell.execute_reply": "2024-05-27T15:20:34.468052Z"
        },
        "trusted": true,
        "id": "Y5liN-098ID-"
      },
      "execution_count": null,
      "outputs": []
    },
    {
      "cell_type": "code",
      "source": [
        "model_main.compile(optimizer='Adam',loss='categorical_crossentropy',metrics=['accuracy', 'recall', 'precision', 'f1'])"
      ],
      "metadata": {
        "id": "1vbm-Bi4nmII",
        "execution": {
          "iopub.status.busy": "2024-05-27T15:20:38.717237Z",
          "iopub.execute_input": "2024-05-27T15:20:38.717643Z",
          "iopub.status.idle": "2024-05-27T15:20:38.739088Z",
          "shell.execute_reply.started": "2024-05-27T15:20:38.717606Z",
          "shell.execute_reply": "2024-05-27T15:20:38.73817Z"
        },
        "trusted": true
      },
      "execution_count": null,
      "outputs": []
    },
    {
      "cell_type": "code",
      "source": [
        "history = model_main.fit(train,validation_data=valid,epochs=20,verbose=1,callbacks=[es])"
      ],
      "metadata": {
        "id": "P2vRYeZrn4P_",
        "execution": {
          "iopub.status.busy": "2024-05-27T15:20:40.403365Z",
          "iopub.execute_input": "2024-05-27T15:20:40.403733Z"
        },
        "trusted": true
      },
      "execution_count": null,
      "outputs": []
    },
    {
      "cell_type": "code",
      "source": [
        "model_main.save(\"DENSENET121_PLANT_DISEASE.h5\")"
      ],
      "metadata": {
        "id": "I71Bo7QJ_cp7",
        "trusted": true
      },
      "execution_count": null,
      "outputs": []
    },
    {
      "cell_type": "code",
      "source": [
        "import matplotlib.pyplot as plt\n",
        "%matplotlib inline\n",
        "import cv2\n",
        "from PIL import Image"
      ],
      "metadata": {
        "id": "_FcvZtIN8Ylw",
        "trusted": true
      },
      "execution_count": null,
      "outputs": []
    },
    {
      "cell_type": "code",
      "source": [
        "plt.figure(figsize=(10,5))\n",
        "plt.plot(model_main.history.history['loss'],color='b',label='Training loss')\n",
        "plt.plot(model_main.history.history['val_loss'],color='r',label='Validation loss')\n",
        "plt.xlabel(\"epochs\")\n",
        "plt.ylabel(\"loss_value\")\n",
        "plt.title(\"loss\")\n"
      ],
      "metadata": {
        "id": "OlDgs86ymntb",
        "trusted": true
      },
      "execution_count": null,
      "outputs": []
    },
    {
      "cell_type": "code",
      "source": [
        "plt.figure(figsize=(10,5))\n",
        "plt.plot(model_main.history.history['accuracy'],color='b',label='Training accuracy')\n",
        "plt.plot(model_main.history.history['val_accuracy'],color='r',label='Validation accsuracy')\n",
        "plt.xlabel(\"epochs\")\n",
        "plt.ylabel(\"accuracy\")\n",
        "plt.title(\"accuracy graph\")\n"
      ],
      "metadata": {
        "id": "4F17Eugk5OlL",
        "trusted": true
      },
      "execution_count": null,
      "outputs": []
    }
  ]
}